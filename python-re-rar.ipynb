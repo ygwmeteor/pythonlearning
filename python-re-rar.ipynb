{
 "cells": [
  {
   "cell_type": "code",
   "execution_count": 11,
   "metadata": {},
   "outputs": [
    {
     "name": "stdout",
     "output_type": "stream",
     "text": [
      "PublicIP.config\n",
      "8.8.8.8\n",
      "114.114.114.114\n",
      "publicIP.txt\n",
      "100.158.23.1\n",
      "8.8.8.8\n",
      "timeE.log\n"
     ]
    }
   ],
   "source": [
    "import os\n",
    "import sys\n",
    "import rarfile\n",
    "import re\n",
    "\n",
    "\n",
    "def is_public_ip(ip_address):\n",
    "    # 将IP地址拆分为四个整数\n",
    "    octets = ip_address.split('.')\n",
    "    first_octet = int(octets[0])\n",
    "\n",
    "    # 判断非IP地址\n",
    "    for ip in octets :\n",
    "        if int(ip) > 255 :\n",
    "            return False\n",
    "\n",
    "    # 根据公网IP地址范围进行判断\n",
    "    if first_octet == 10:\n",
    "        return False  # 私有地址，不是公网IP\n",
    "    elif first_octet == 172 and 16 <= int(octets[1]) <= 31:\n",
    "        return False  # 私有地址，不是公网IP\n",
    "    elif first_octet == 192 and int(octets[1]) == 168:\n",
    "        return False  # 私有地址，不是公网IP\n",
    "    elif first_octet == 127:\n",
    "        return False  # 回环地址，不是公网IP\n",
    "    elif first_octet == 169 and int(octets[1]) == 254:\n",
    "        return False  # 链路本地地址，不是公网IP\n",
    "    elif 224 <= first_octet <= 239:\n",
    "        return False  # 多播地址，不是公网IP\n",
    "    else:\n",
    "        return True  # 其他情况为公网IP\n",
    "\n",
    "\n",
    "pattern = r'\\b(?:\\d{1,3}\\.){3}\\d{1,3}\\b'\n",
    "\n",
    "rlist = rarfile.RarFile('D:/test/data.rar').namelist()\n",
    "\n",
    "\n",
    "for name in rlist:\n",
    "    print(name)\n",
    "    if name.endswith('.config') or name.endswith('.txt') :\n",
    "        with rarfile.RarFile('D:/test/data.rar') as myrar:\n",
    "            with myrar.open(name) as myfile:\n",
    "                for index, line in enumerate(myfile.readlines()):\n",
    "                    ip_addresses = re.findall(pattern,line.decode('utf-8'))\n",
    "                    for ip in ip_addresses :\n",
    "                        if is_public_ip(ip) :\n",
    "                            print(ip)\n",
    "                            #break\n",
    "                    #break\n"
   ]
  },
  {
   "cell_type": "code",
   "execution_count": 10,
   "metadata": {},
   "outputs": [
    {
     "name": "stdout",
     "output_type": "stream",
     "text": [
      "<_io.TextIOWrapper name='D:\\\\test\\\\publicIP.txt' mode='r' encoding='utf-8'>\n"
     ]
    }
   ],
   "source": [
    "import os\n",
    "import sys\n",
    "import re\n",
    "\n",
    "pattern = r'\\b(?:\\d{1,3}\\.){3}\\d{1,3}\\b'\n",
    "\n",
    "with open(\"D:\\\\test\\\\publicIP.txt\", \"r\", encoding='utf-8') as f:\n",
    "    print(f)\n",
    "    # ip_addresses = re.findall(pattern,f)\n",
    "    # for ip in ip_addresses :\n",
    "    #     print(ip)"
   ]
  }
 ],
 "metadata": {
  "kernelspec": {
   "display_name": "Python 3",
   "language": "python",
   "name": "python3"
  },
  "language_info": {
   "codemirror_mode": {
    "name": "ipython",
    "version": 3
   },
   "file_extension": ".py",
   "mimetype": "text/x-python",
   "name": "python",
   "nbconvert_exporter": "python",
   "pygments_lexer": "ipython3",
   "version": "3.11.3"
  },
  "orig_nbformat": 4
 },
 "nbformat": 4,
 "nbformat_minor": 2
}
